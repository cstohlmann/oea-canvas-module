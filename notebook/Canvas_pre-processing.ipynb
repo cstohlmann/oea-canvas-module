{
  "cells": [
    {
      "cell_type": "markdown",
      "source": [
        "# Canvas Module Ingestion - Pre-Processing\r\n",
        "\r\n",
        "This notebook demonstrates the utility of the OEA_py class notebook, by converting the Canvas tables from record-oriented JSONs to CSVs pre-ingestion. Once any ad hoc column-dtype conversion is complete, the table is overwritten in stage1.\r\n",
        "\r\n",
        "The steps outlined below describe how this notebook is used to convert the Canvas module JSON tables:\r\n",
        "- Set the workspace for where the Canvas tables are to be converted. \r\n",
        "- Read in the original JSONs landed in ```stage1/Transactional/canvas/v2.0/...```, perform any ad hoc data conversions (e.g. the accounts table needs the parent_account_id column cast to LongType rather than DoubleType) and write the table to stage1 as a CSV (and remove the excess rundate folders containing the original JSONs).\r\n",
        "- 3 function is defined and used:\r\n",
        "   1. **preprocess_canvas_dataset**: main method that reads in the pandas df JSON using the function ```pd.read_json(..., lines=True)```, converts to a spark df and corrects the column-dtypes as needed.\r\n",
        "   2. **write_canvas_json_as_csv**: writes the pre-existing JSON df as a CSV into the same folder housed in stage1.\r\n",
        "   3. **clean_data_lake_latest**: removes any additional folders in the data lake for a location, keeping only the latest rundate folder (that is, the CSV rather than the original JSON).\r\n",
        "\r\n",
        "**This notebook may either need updating or removal from pipeline, when processing production data.**"
      ],
      "metadata": {
        "nteract": {
          "transient": {
            "deleting": false
          }
        }
      }
    },
    {
      "cell_type": "code",
      "source": [
        "workspace = 'dev'\r\n",
        "version = '2.0'"
      ],
      "outputs": [],
      "execution_count": null,
      "metadata": {
        "jupyter": {
          "source_hidden": false,
          "outputs_hidden": false
        },
        "nteract": {
          "transient": {
            "deleting": false
          }
        },
        "tags": [
          "parameters"
        ]
      }
    },
    {
      "cell_type": "code",
      "source": [
        "%run OEA_py"
      ],
      "outputs": [],
      "execution_count": null,
      "metadata": {
        "jupyter": {
          "source_hidden": false,
          "outputs_hidden": false
        },
        "nteract": {
          "transient": {
            "deleting": false
          }
        }
      }
    },
    {
      "cell_type": "code",
      "source": [
        "# 1) set the workspace (this determines where in the data lake you'll be writing to and reading from).\r\n",
        "# You can work in 'dev', 'prod', or a sandbox with any name you choose.\r\n",
        "# For example, Sam the developer can create a 'sam' workspace and expect to find his datasets in the data lake under oea/sandboxes/sam\r\n",
        "oea.set_workspace(workspace)"
      ],
      "outputs": [],
      "execution_count": null,
      "metadata": {
        "jupyter": {
          "source_hidden": false,
          "outputs_hidden": false
        },
        "nteract": {
          "transient": {
            "deleting": false
          }
        }
      }
    },
    {
      "cell_type": "code",
      "source": [
        "# 2) this step pre-processing the canvas data through reading in the JSONs as records, corrects any schema discepancies and then writes out the df as a CSV in stage1.\r\n",
        "import datetime\r\n",
        "currentDate = datetime.datetime.now()\r\n",
        "currentDateTime = currentDate.strftime(\"%Y-%m-%d %H-%M-%S\")\r\n",
        "\r\n",
        "# method: clean data lake latest\r\n",
        "def clean_data_lake_latest(source_path):\r\n",
        "    \"\"\"only house the latest rundate folder compared to the old data (which were JSONs)\"\"\"\r\n",
        "    latest_folder = oea.get_latest_folder(source_path)\r\n",
        "    items = mssparkutils.fs.ls(oea.to_url(source_path))\r\n",
        "    for item in items:\r\n",
        "        if item.name != latest_folder:\r\n",
        "            logger.info('file removal path: ' + item.path + ' with item: ' + item.name)\r\n",
        "            oea.rm_if_exists(source_path + '/' + item.name)\r\n",
        "            logger.info('Successfully removed folder: ' + item.name + ' from path: ' + item.path)\r\n",
        "        else:\r\n",
        "            logger.info('Kept folder: ' + item.name + ' from path: ' + item.path)\r\n",
        "    logger.info('Finished cleaning data lake to house only the latest folder')\r\n",
        "\r\n",
        "# method: write the df to CSV in the pre-existing path that contains the table's JSON\r\n",
        "def write_canvas_json_as_csv(write_filepath,batch_type,df):\r\n",
        "    df.coalesce(1).write.save(oea.to_url(f'{write_filepath}/{batch_type}_batch_data/rundate={currentDateTime}'), format='csv', mode='overwrite', header='true', mergeSchema='true')\r\n",
        "\r\n",
        "# method: overarching function\r\n",
        "def preprocess_canvas_dataset(tables_source):\r\n",
        "    items = oea.get_folders(tables_source)\r\n",
        "    for item in items: \r\n",
        "        table_path = tables_source +'/'+ item\r\n",
        "        pdf = pd.read_json(oea.to_url(f'{table_path}/snapshot_batch_data/*/*.json'),lines=True)\r\n",
        "        df = spark.createDataFrame(pdf)\r\n",
        "        if item == 'accounts':\r\n",
        "            df = df.withColumn('parent_account_id', df['parent_account_id'].cast(LongType()))\r\n",
        "            write_canvas_json_as_csv(table_path,'snapshot',df)\r\n",
        "        else:\r\n",
        "            write_canvas_json_as_csv(table_path,'snapshot',df)\r\n",
        "        clean_data_lake_latest(f'{table_path}/snapshot_batch_data')\r\n",
        "        new_table_path = f'{table_path}/snapshot_batch_data/rundate={currentDateTime}'\r\n",
        "        oea.rm_if_exists(new_table_path + '/_SUCCESS', False)\r\n",
        "        logger.info('Pre-processed table: ' + item + ' from: ' + table_path)\r\n",
        "    logger.info('Finished pre-processing Canvas tables')"
      ],
      "outputs": [],
      "execution_count": null,
      "metadata": {
        "jupyter": {
          "source_hidden": false,
          "outputs_hidden": false
        },
        "nteract": {
          "transient": {
            "deleting": false
          }
        },
        "collapsed": false
      }
    },
    {
      "cell_type": "code",
      "source": [
        "# set the version number and pre-process the dataset\r\n",
        "preprocess_canvas_dataset(f'stage1/Transactional/canvas/v{version}')"
      ],
      "outputs": [],
      "execution_count": null,
      "metadata": {
        "jupyter": {
          "source_hidden": false,
          "outputs_hidden": false
        },
        "nteract": {
          "transient": {
            "deleting": false
          }
        }
      }
    }
  ],
  "metadata": {
    "kernelspec": {
      "name": "synapse_pyspark",
      "display_name": "Synapse PySpark"
    },
    "language_info": {
      "name": "python"
    },
    "description": null,
    "save_output": true,
    "synapse_widget": {
      "version": "0.1",
      "state": {}
    }
  },
  "nbformat": 4,
  "nbformat_minor": 2
}