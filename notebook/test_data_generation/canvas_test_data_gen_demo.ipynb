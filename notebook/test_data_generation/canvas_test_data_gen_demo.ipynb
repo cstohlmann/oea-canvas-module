{
  "cells": [
    {
      "cell_type": "markdown",
      "source": [
        "# Test Data Generation: Canvas Tables Demonstration Notebook\r\n",
        "\r\n",
        "**Affiliation**: *Kwantum Edu Analytics*. **Last Modified**: *5/18/2023*.\r\n",
        "\r\n",
        "This OEA test data generation notebook illustrates use of the OEA_py, canvas_roster_test_data_gen_py and canvas_activity_test_data_gen_py python classes for creating and developing Canvas table test data in stage1.\r\n",
        "\r\n",
        "Use the main function outlined in the canvas_roster_test_data_gen_py class notebook ```genCanvasRoster(startdate, enddate, reportgendate, use_general_module_base_truth)``` to create test data for **7** roster tables. \r\n",
        "\r\n",
        "Use the main function outlined in the canvas_activity_test_data_gen_py class notebook ```genCanvasActivity(startdate, enddate, reportgendate, canvas_roster_tables_source_path, max_num_activities_per_class)``` to create test data for **9** activity tables. \r\n",
        "\r\n",
        "Parameter descriptions, additional information around methods and test data generation processes/comments are given in the class notebooks. \r\n",
        "\r\n",
        "*These methods only create higher ed. Canvas module test data currently; these can be updated and adapted to generate K-12 test data.*"
      ],
      "metadata": {
        "nteract": {
          "transient": {
            "deleting": false
          }
        }
      }
    },
    {
      "cell_type": "code",
      "source": [
        "%run OEA_py"
      ],
      "outputs": [],
      "execution_count": null,
      "metadata": {
        "jupyter": {
          "source_hidden": false,
          "outputs_hidden": false
        },
        "nteract": {
          "transient": {
            "deleting": false
          }
        }
      }
    },
    {
      "cell_type": "code",
      "source": [
        "# set the workspace (this determines where in the data lake you'll be writing to and reading from).\r\n",
        "# You can work in 'dev', 'prod', or a sandbox with any name you choose.\r\n",
        "# For example, Sam the developer can create a 'sam' workspace and expect to find his datasets in the data lake under oea/sandboxes/sam\r\n",
        "oea.set_workspace('dev')"
      ],
      "outputs": [],
      "execution_count": null,
      "metadata": {
        "jupyter": {
          "source_hidden": false,
          "outputs_hidden": false
        },
        "nteract": {
          "transient": {
            "deleting": false
          }
        }
      }
    },
    {
      "cell_type": "markdown",
      "source": [
        "## Generate Canvas Roster Test Data\r\n",
        "\r\n",
        "The functions below create the 7 tables described in the canvas_roster_test_data_gen_py class notebook."
      ],
      "metadata": {
        "nteract": {
          "transient": {
            "deleting": false
          }
        }
      }
    },
    {
      "cell_type": "code",
      "source": [
        "%run /canvas_roster_test_data_gen_py"
      ],
      "outputs": [],
      "execution_count": null,
      "metadata": {
        "jupyter": {
          "source_hidden": false,
          "outputs_hidden": false
        },
        "nteract": {
          "transient": {
            "deleting": false
          }
        }
      }
    },
    {
      "cell_type": "code",
      "source": [
        "rosterdatagen = CanvasRosterDataGen()"
      ],
      "outputs": [],
      "execution_count": null,
      "metadata": {
        "jupyter": {
          "source_hidden": false,
          "outputs_hidden": false
        },
        "nteract": {
          "transient": {
            "deleting": false
          }
        }
      }
    },
    {
      "cell_type": "code",
      "source": [
        "# depending on sizes of base tables, Canvas generation can take up to 5 min\r\n",
        "# refer to the canvas_roster_test_data_gen_py class notebook for additional details\r\n",
        "\r\n",
        "start_date = '2022-01-01T00:00:00' # roster start date\r\n",
        "end_date = '2022-06-01T00:00:00' # roster end date\r\n",
        "report_gen_date = '2022-02-02T00:00:00' # date the tables/reports were (fictitously) generated\r\n",
        "use_general_module_base_truth_tables = True # <- choose whether you'd like to generate test data based on user-generated base-truth tables (set to \"False\"), or to import and use general module base-truth tables (to link with other OEA module test datasets; set to \"True\").\r\n",
        "\r\n",
        "rosterdatagen.genCanvasRoster(start_date, end_date, report_gen_date, use_general_module_base_truth_tables)"
      ],
      "outputs": [],
      "execution_count": null,
      "metadata": {
        "jupyter": {
          "source_hidden": false,
          "outputs_hidden": false
        },
        "nteract": {
          "transient": {
            "deleting": false
          }
        }
      }
    },
    {
      "cell_type": "code",
      "source": [
        "import json\r\n",
        "import pandas as pd\r\n",
        "#canvas_roster_tables_source_path = 'stage1/Transactional/test_data/v0.1/canvas_gen3'\r\n",
        "canvas_roster_tables_source_path = 'stage1/Transactional/test_data/v0.1'\r\n",
        "#canvas_roster_tables_source_path = 'stage1/Transactional/test_data/v0.1/test'\r\n",
        "#canvas_accounts = oea.load_json(f'{canvas_roster_tables_source_path}/accounts/*.json', multiline=True)\r\n",
        "#display(canvas_accounts)\r\n",
        "\r\n",
        "# NOTE: for some reason line 9 throws an AttributeError\r\n",
        "#dfAccounts = pd.read_json(oea.to_url(f'{canvas_roster_tables_source_path}/accounts/*.json'), lines=True)\r\n",
        "\r\n",
        "# NOTE: THE LINES BELOW WORK, BUT ONLY READS IN ONE LINE OF THE JSON..?\r\n",
        "#dfAccounts = oea.load_json(f'{canvas_roster_tables_source_path}/accounts/*.json', multiline=True)\r\n",
        "dfAccounts = oea.load_json(f'{canvas_roster_tables_source_path}/accounts.json', multiline=True)\r\n",
        "display(dfAccounts.limit(10))"
      ],
      "outputs": [],
      "execution_count": null,
      "metadata": {
        "jupyter": {
          "source_hidden": false,
          "outputs_hidden": false
        },
        "nteract": {
          "transient": {
            "deleting": false
          }
        },
        "collapsed": false
      }
    },
    {
      "cell_type": "code",
      "source": [
        "# NOTE: Same AttributeError thrown...\r\n",
        "import json\r\n",
        "import pandas as pd\r\n",
        "canvas_roster_tables_source_path = 'stage1/Transactional/test_data/v0.1/canvas_gen3'\r\n",
        "#df = pd.read_json(f'{canvas_roster_tables_source_path}/accounts/*.json', orient = 'records', dtype={\"A\":str, \"B\":list})\r\n",
        "df = pd.read_json(oea.to_url(f'{canvas_roster_tables_source_path}/accounts/*.json'), orient = 'records')\r\n",
        "display(df)"
      ],
      "outputs": [],
      "execution_count": null,
      "metadata": {
        "jupyter": {
          "source_hidden": false,
          "outputs_hidden": false
        },
        "nteract": {
          "transient": {
            "deleting": false
          }
        }
      }
    },
    {
      "cell_type": "code",
      "source": [
        "pd.show_versions()"
      ],
      "outputs": [],
      "execution_count": null,
      "metadata": {
        "jupyter": {
          "source_hidden": false,
          "outputs_hidden": false
        },
        "nteract": {
          "transient": {
            "deleting": false
          }
        }
      }
    },
    {
      "cell_type": "markdown",
      "source": [
        "## Generate Canvas Activity Test Data\r\n",
        "\r\n",
        "The functions below create the 9 tables described in the canvas_activity_test_data_gen_py class notebook.\r\n",
        "\r\n",
        "**Note**: The function to generate Canvas activity test data, requires that Canvas roster test data tables have already been created."
      ],
      "metadata": {
        "nteract": {
          "transient": {
            "deleting": false
          }
        }
      }
    },
    {
      "cell_type": "code",
      "source": [
        "%run /canvas_activity_test_data_gen_py"
      ],
      "outputs": [],
      "execution_count": null,
      "metadata": {
        "jupyter": {
          "source_hidden": false,
          "outputs_hidden": false
        },
        "nteract": {
          "transient": {
            "deleting": false
          }
        }
      }
    },
    {
      "cell_type": "code",
      "source": [
        "activitydatagen = CanvasActivityDataGen()"
      ],
      "outputs": [],
      "execution_count": null,
      "metadata": {
        "jupyter": {
          "source_hidden": false,
          "outputs_hidden": false
        },
        "nteract": {
          "transient": {
            "deleting": false
          }
        }
      }
    },
    {
      "cell_type": "code",
      "source": [
        "start_date = '2022-01-01T00:00:00' # roster start date\r\n",
        "end_date = '2022-06-01T00:00:00' # roster end date\r\n",
        "report_gen_date = '2022-02-02T00:00:00' # date the tables/reports were (fictitously) generated\r\n",
        "canvas_roster_tables_source_path = 'stage1/Transactional/test_data/v0.1/canvas_gen2' # <- directory path of the Canvas roster tables\r\n",
        "max_num_activities_per_class = 3 # <- choose max number of assignments, lessons, etc. you'd like to generate per class (NOTE: students with activities are chosen at random).\r\n",
        "\r\n",
        "activitydatagen.genCanvasActivity(start_date, end_date, report_gen_date, canvas_roster_tables_source_path, max_num_activities_per_class)"
      ],
      "outputs": [],
      "execution_count": null,
      "metadata": {
        "jupyter": {
          "source_hidden": false,
          "outputs_hidden": false
        },
        "nteract": {
          "transient": {
            "deleting": false
          }
        }
      }
    },
    {
      "cell_type": "code",
      "source": [
        "canvas_roster_tables_source_path = 'stage1/Transactional/test_data/v0.1/canvas_gen2'\r\n",
        "#canvas_roster_tables_source_path = 'stage1/Transactional/test_data/v0.1/test'\r\n",
        "#canvas_accounts = oea.load_json(f'{canvas_roster_tables_source_path}/accounts/*.json', multiline=True)\r\n",
        "#display(canvas_accounts)\r\n",
        "dfAccounts = pd.read_json(oea.to_url(f'{canvas_roster_tables_source_path}/users/*.json'), lines=True)\r\n",
        "display(dfAccounts)"
      ],
      "outputs": [],
      "execution_count": null,
      "metadata": {
        "jupyter": {
          "source_hidden": false,
          "outputs_hidden": false
        },
        "nteract": {
          "transient": {
            "deleting": false
          }
        },
        "collapsed": false
      }
    },
    {
      "cell_type": "code",
      "source": [
        "canvas_roster_tables_source_path = 'stage1/Transactional/test_data/v0.1/canvas_activity_gen'\r\n",
        "#canvas_roster_tables_source_path = 'stage1/Transactional/test_data/v0.1/test'\r\n",
        "#canvas_accounts = oea.load_json(f'{canvas_roster_tables_source_path}/accounts/*.json', multiline=True)\r\n",
        "#display(canvas_accounts)\r\n",
        "dfAssign = pd.read_json(oea.to_url(f'{canvas_roster_tables_source_path}/assignments/*.json'), lines=True)\r\n",
        "display(dfAssign)"
      ],
      "outputs": [],
      "execution_count": null,
      "metadata": {
        "jupyter": {
          "source_hidden": false,
          "outputs_hidden": false
        },
        "nteract": {
          "transient": {
            "deleting": false
          }
        },
        "collapsed": false
      }
    },
    {
      "cell_type": "code",
      "source": [
        "dfAssign_spark = spark.createDataFrame(dfAssign)\r\n",
        "num_assigns = dfAssign_spark.count()\r\n",
        "print('number of assignments generated: ' + str(num_assigns))\r\n",
        "dfTest = dfAssign_spark.dropDuplicates('id')\r\n",
        "test_num_assigns = dfTest.count()\r\n",
        "print('number of assignments with unique IDs: ' + str(test_num_assigns))"
      ],
      "outputs": [],
      "execution_count": null,
      "metadata": {
        "jupyter": {
          "source_hidden": false,
          "outputs_hidden": false
        },
        "nteract": {
          "transient": {
            "deleting": false
          }
        }
      }
    },
    {
      "cell_type": "code",
      "source": [
        "display(dfAssign_spark)"
      ],
      "outputs": [],
      "execution_count": null,
      "metadata": {
        "jupyter": {
          "source_hidden": false,
          "outputs_hidden": false
        },
        "nteract": {
          "transient": {
            "deleting": false
          }
        },
        "collapsed": false
      }
    }
  ],
  "metadata": {
    "kernelspec": {
      "name": "synapse_pyspark",
      "language": "Python",
      "display_name": "Synapse PySpark"
    },
    "language_info": {
      "name": "python"
    },
    "kernel_info": {
      "name": "synapse_pyspark"
    },
    "description": null,
    "save_output": true,
    "synapse_widget": {
      "version": "0.1",
      "state": {}
    }
  },
  "nbformat": 4,
  "nbformat_minor": 2
}