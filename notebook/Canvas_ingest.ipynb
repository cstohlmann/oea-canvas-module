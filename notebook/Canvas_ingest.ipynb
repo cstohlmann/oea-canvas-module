{
  "cells": [
    {
      "cell_type": "markdown",
      "source": [
        "# Canvas Module - Ingest\r\n",
        "\r\n",
        "This notebook demonstrates the utility of the OEA_py class notebook, and speeding up the process of ingesting the Canvas data.\r\n",
        "\r\n",
        "The steps outlined below describe how this notebook is used to ingest the Canvas module tables:\r\n",
        "\r\n",
        "- Set the workspace for where the tables are located. \r\n",
        "- 1 function is defined and used:\r\n",
        "  - ```ingest_canvas_dataset```: identifies primary keys per table and ingests each table from Canvas listed:\r\n",
        " 1. **accounts**\r\n",
        " 2. **assignments**\r\n",
        " 3. **content_tags**\r\n",
        " 4. **context_modules**\r\n",
        " 5. **courses**\r\n",
        " 6. **course_sections**\r\n",
        " 7. **enrollments**\r\n",
        " 8. **enrollment_terms**\r\n",
        " 9. **quiz_submissions**\r\n",
        " 10. **quizzes**\r\n",
        " 11. **roles**\r\n",
        " 12. **submissions**\r\n",
        " 13. **users** "
      ],
      "metadata": {
        "nteract": {
          "transient": {
            "deleting": false
          }
        }
      }
    },
    {
      "cell_type": "code",
      "source": [
        "workspace = 'dev'\r\n",
        "version = '2.0'"
      ],
      "outputs": [],
      "execution_count": null,
      "metadata": {
        "jupyter": {
          "source_hidden": false,
          "outputs_hidden": false
        },
        "nteract": {
          "transient": {
            "deleting": false
          }
        },
        "tags": [
          "parameters"
        ]
      }
    },
    {
      "cell_type": "code",
      "source": [
        "%run OEA_py"
      ],
      "outputs": [],
      "execution_count": null,
      "metadata": {
        "jupyter": {
          "source_hidden": false,
          "outputs_hidden": false
        },
        "nteract": {
          "transient": {
            "deleting": false
          }
        }
      }
    },
    {
      "cell_type": "code",
      "source": [
        "# 1) set the workspace (this determines where in the data lake you'll be writing to and reading from).\r\n",
        "# You can work in 'dev', 'prod', or a sandbox with any name you choose.\r\n",
        "# For example, Sam the developer can create a 'sam' workspace and expect to find his datasets in the data lake under oea/sandboxes/sam\r\n",
        "oea.set_workspace(workspace)"
      ],
      "outputs": [],
      "execution_count": null,
      "metadata": {
        "jupyter": {
          "source_hidden": false,
          "outputs_hidden": false
        },
        "nteract": {
          "transient": {
            "deleting": false
          }
        }
      }
    },
    {
      "cell_type": "code",
      "source": [
        "# this function ingests each canvas table from stage1/../canvas_preprocessed/...\r\n",
        "def ingest_canvas_dataset(tables_source):\r\n",
        "    items = oea.get_folders(f'stage1/Transactional/{tables_source}')\r\n",
        "    for item in items: \r\n",
        "        table_path = f'canvas/v{version}/{item}'\r\n",
        "        try:\r\n",
        "            # 3 paths: check_path is for checking whether the table should be ingested, read_path is for reading the stage1 CSV location, write path for stage2 ingested location\r\n",
        "            if item == 'metadata.csv':\r\n",
        "                logger.info('ignore metadata csv - not a table to be ingested')\r\n",
        "            elif item == 'content_tags':\r\n",
        "                oea.ingest(table_path, 'content_id')\r\n",
        "            else:\r\n",
        "                oea.ingest(table_path, 'id')\r\n",
        "        except AnalysisException as e:\r\n",
        "            # This means the table may have not been properly refined due to errors with the primary key not aligning with columns expected in the lookup table.\r\n",
        "            pass\r\n",
        "    logger.info('Finished ingesting the most recent Canvas data')"
      ],
      "outputs": [],
      "execution_count": null,
      "metadata": {
        "jupyter": {
          "source_hidden": false,
          "outputs_hidden": false
        },
        "nteract": {
          "transient": {
            "deleting": false
          }
        }
      }
    },
    {
      "cell_type": "code",
      "source": [
        "# ingest the canvas dataset\r\n",
        "ingest_canvas_dataset(f'canvas/v{version}')"
      ],
      "outputs": [],
      "execution_count": null,
      "metadata": {
        "jupyter": {
          "source_hidden": false,
          "outputs_hidden": false
        },
        "nteract": {
          "transient": {
            "deleting": false
          }
        }
      }
    }
  ],
  "metadata": {
    "kernelspec": {
      "name": "synapse_pyspark",
      "display_name": "Synapse PySpark"
    },
    "language_info": {
      "name": "python"
    },
    "description": null,
    "save_output": true,
    "synapse_widget": {
      "version": "0.1",
      "state": {}
    }
  },
  "nbformat": 4,
  "nbformat_minor": 2
}