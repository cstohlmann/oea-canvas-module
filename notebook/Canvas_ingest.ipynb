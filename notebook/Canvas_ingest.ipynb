{
  "cells": [
    {
      "cell_type": "markdown",
      "source": [
        "# Canvas Module - Ingest\r\n",
        "\r\n",
        "This notebook demonstrates the utility of the OEA_py class notebook, and speeding up the process of ingesting the Canvas data.\r\n",
        "\r\n",
        "The steps outlined below describe how this notebook is used to ingest the Canvas module tables:\r\n",
        "\r\n",
        "- Set the workspace for where the tables are located. \r\n",
        "- 1 function is defined and used:\r\n",
        "  - ```ingest_canvas_dataset```: identifies primary keys per table and ingests each table from Canvas listed:\r\n",
        " 1. **accounts**\r\n",
        " 2. **assignments**\r\n",
        " 3. **assignment_submissions**\r\n",
        " 4. **assignment_submission_summary**\r\n",
        " 5. **courses**\r\n",
        " 6. **course_sections**\r\n",
        " 7. **enrollments**\r\n",
        " 8. **enrollment_terms**\r\n",
        " 9. **roles**\r\n",
        " 10. **users** "
      ],
      "metadata": {
        "nteract": {
          "transient": {
            "deleting": false
          }
        }
      }
    },
    {
      "cell_type": "code",
      "source": [
        "workspace = 'dev'\r\n",
        "version = '2.0'"
      ],
      "outputs": [
        {
          "output_type": "display_data",
          "data": {
            "application/vnd.livy.statement-meta+json": {
              "spark_pool": "spark3p3sm",
              "session_id": "75",
              "statement_id": 1,
              "state": "finished",
              "livy_statement_state": "available",
              "queued_time": "2023-01-13T17:25:01.3723354Z",
              "session_start_time": "2023-01-13T17:25:01.4146117Z",
              "execution_start_time": "2023-01-13T17:28:41.1660616Z",
              "execution_finish_time": "2023-01-13T17:28:41.3313447Z",
              "spark_jobs": null
            },
            "text/plain": "StatementMeta(spark3p3sm, 75, 1, Finished, Available)"
          },
          "metadata": {}
        }
      ],
      "execution_count": null,
      "metadata": {
        "jupyter": {
          "source_hidden": false,
          "outputs_hidden": false
        },
        "nteract": {
          "transient": {
            "deleting": false
          }
        },
        "tags": [
          "parameters"
        ]
      }
    },
    {
      "cell_type": "code",
      "source": [
        "%run OEA_py"
      ],
      "outputs": [
        {
          "output_type": "display_data",
          "data": {
            "application/vnd.livy.statement-meta+json": {
              "spark_pool": null,
              "session_id": "75",
              "statement_id": -1,
              "state": "finished",
              "livy_statement_state": "available",
              "queued_time": "2023-01-13T17:25:03.0585236Z",
              "session_start_time": null,
              "execution_start_time": "2023-01-13T17:28:47.3418784Z",
              "execution_finish_time": "2023-01-13T17:28:47.3422331Z",
              "spark_jobs": null
            },
            "text/plain": "StatementMeta(, 75, -1, Finished, Available)"
          },
          "metadata": {}
        },
        {
          "output_type": "stream",
          "name": "stdout",
          "text": [
            "2023-01-13 17:28:45,990 - OEA - INFO - Now using workspace: dev\n2023-01-13 17:28:45,991 - OEA - INFO - OEA initialized.\n"
          ]
        }
      ],
      "execution_count": null,
      "metadata": {
        "jupyter": {
          "source_hidden": false,
          "outputs_hidden": false
        },
        "nteract": {
          "transient": {
            "deleting": false
          }
        }
      }
    },
    {
      "cell_type": "code",
      "source": [
        "# 1) set the workspace (this determines where in the data lake you'll be writing to and reading from).\r\n",
        "# You can work in 'dev', 'prod', or a sandbox with any name you choose.\r\n",
        "# For example, Sam the developer can create a 'sam' workspace and expect to find his datasets in the data lake under oea/sandboxes/sam\r\n",
        "oea.set_workspace(workspace)"
      ],
      "outputs": [
        {
          "output_type": "display_data",
          "data": {
            "application/vnd.livy.statement-meta+json": {
              "spark_pool": "spark3p3sm",
              "session_id": "75",
              "statement_id": 3,
              "state": "finished",
              "livy_statement_state": "available",
              "queued_time": "2023-01-13T17:25:05.3624402Z",
              "session_start_time": null,
              "execution_start_time": "2023-01-13T17:28:47.5848012Z",
              "execution_finish_time": "2023-01-13T17:28:47.7739201Z",
              "spark_jobs": null
            },
            "text/plain": "StatementMeta(spark3p3sm, 75, 3, Finished, Available)"
          },
          "metadata": {}
        },
        {
          "output_type": "stream",
          "name": "stdout",
          "text": [
            "2023-01-13 17:28:47,566 - OEA - INFO - Now using workspace: dev\n"
          ]
        }
      ],
      "execution_count": null,
      "metadata": {
        "jupyter": {
          "source_hidden": false,
          "outputs_hidden": false
        },
        "nteract": {
          "transient": {
            "deleting": false
          }
        }
      }
    },
    {
      "cell_type": "code",
      "source": [
        "items = oea.get_folders('stage1/Transactional/Canvas/v' + version)"
      ],
      "outputs": [
        {
          "output_type": "display_data",
          "data": {
            "application/vnd.livy.statement-meta+json": {
              "spark_pool": "spark3p3sm",
              "session_id": "75",
              "statement_id": 5,
              "state": "finished",
              "livy_statement_state": "available",
              "queued_time": "2023-01-13T17:25:09.0271089Z",
              "session_start_time": null,
              "execution_start_time": "2023-01-13T17:28:48.2002536Z",
              "execution_finish_time": "2023-01-13T17:28:53.5136049Z",
              "spark_jobs": null
            },
            "text/plain": "StatementMeta(spark3p3sm, 75, 5, Finished, Available)"
          },
          "metadata": {}
        }
      ],
      "execution_count": null,
      "metadata": {
        "jupyter": {
          "source_hidden": false,
          "outputs_hidden": false
        },
        "nteract": {
          "transient": {
            "deleting": false
          }
        }
      }
    },
    {
      "cell_type": "code",
      "source": [
        "print(items)"
      ],
      "outputs": [
        {
          "output_type": "display_data",
          "data": {
            "application/vnd.livy.statement-meta+json": {
              "spark_pool": "spark3p3sm",
              "session_id": "75",
              "statement_id": 6,
              "state": "finished",
              "livy_statement_state": "available",
              "queued_time": "2023-01-13T17:25:57.5671273Z",
              "session_start_time": null,
              "execution_start_time": "2023-01-13T17:28:53.6375449Z",
              "execution_finish_time": "2023-01-13T17:28:53.8004314Z",
              "spark_jobs": null
            },
            "text/plain": "StatementMeta(spark3p3sm, 75, 6, Finished, Available)"
          },
          "metadata": {}
        },
        {
          "output_type": "stream",
          "name": "stdout",
          "text": [
            "['AadGroup', 'AadGroupMembership', 'AadUser', 'AadUserPersonMapping', 'Course', 'CourseGradeLevel', 'CourseSubject', 'Enrollment', 'Organization', 'Person', 'PersonDemographic', 'PersonDemographicEthnicity', 'PersonDemographicPersonFlag', 'PersonDemographicRace', 'PersonEmailAddress', 'PersonIdentifier', 'PersonOrganizationRole', 'PersonPhoneNumber', 'PersonRelationship', 'RefDefinition', 'RefTranslation', 'Section', 'SectionGradeLevel', 'SectionSession', 'SectionSubject', 'Session', 'SourceSystem', 'activity']\n"
          ]
        }
      ],
      "execution_count": null,
      "metadata": {
        "jupyter": {
          "source_hidden": false,
          "outputs_hidden": false
        },
        "nteract": {
          "transient": {
            "deleting": false
          }
        }
      }
    },
    {
      "cell_type": "code",
      "source": [
        "def should_ingest(entity_path):\r\n",
        "    raw_path = f'stage1/Transactional/{entity_path}'\r\n",
        "    batch_type, source_data_format = oea.get_batch_info(raw_path)\r\n",
        "    logger.info(f'Ingesting from: {raw_path}, batch type of: {batch_type}, source data format of: {source_data_format}')\r\n",
        "    source_url = oea.to_url(f'{raw_path}/{batch_type}_batch_data')\r\n",
        "\r\n",
        "    if batch_type == 'snapshot' or batch_type=='additive': source_url = f'{source_url}/{oea.get_latest_folder(source_url)}' \r\n",
        "\r\n",
        "    return oea.get_folder_size(source_url) > 0\r\n",
        "\r\n",
        "# 2) this step refines the data through the use of metadata (this is where the pseudonymization of the data occurs).\r\n",
        "def ingest_canvas_dataset(tables_source):\r\n",
        "    items = oea.get_folders(tables_source)\r\n",
        "    options = {'multiline':True}\r\n",
        "    for item in items: \r\n",
        "        table_path = tables_source +'/'+ item\r\n",
        "        try:\r\n",
        "            entity_path = 'canvas/v'+ version +'/' + item\r\n",
        "            if item == 'metadata.csv':\r\n",
        "                logger.info('ignore metadata csv - not a table to be ingested')\r\n",
        "            else:\r\n",
        "                if(should_ingest(entity_path)):\r\n",
        "                    oea.ingest(entity_path, 'id', options)\r\n",
        "        except AnalysisException as e:\r\n",
        "            # This means the table may have not been properly refined due to errors with the primary key not aligning with columns expected in the lookup table.\r\n",
        "            pass"
      ],
      "outputs": [
        {
          "output_type": "display_data",
          "data": {
            "application/vnd.livy.statement-meta+json": {
              "spark_pool": "spark3p3sm",
              "session_id": "75",
              "statement_id": 17,
              "state": "finished",
              "livy_statement_state": "available",
              "queued_time": "2023-01-13T18:20:19.2820679Z",
              "session_start_time": null,
              "execution_start_time": "2023-01-13T18:20:19.4045271Z",
              "execution_finish_time": "2023-01-13T18:20:19.5655732Z",
              "spark_jobs": null
            },
            "text/plain": "StatementMeta(spark3p3sm, 75, 17, Finished, Available)"
          },
          "metadata": {}
        }
      ],
      "execution_count": null,
      "metadata": {
        "jupyter": {
          "source_hidden": false,
          "outputs_hidden": false
        },
        "nteract": {
          "transient": {
            "deleting": false
          }
        }
      }
    },
    {
      "cell_type": "code",
      "source": [
        "metadata = oea.get_metadata_from_url('https://raw.githubusercontent.com/microsoft/OpenEduAnalytics/main/modules/module_catalog/Canvas/test_data/metadata.csv')\r\n",
        "ingest_canvas_dataset('stage1/Transactional/canvas/v' + version)"
      ],
      "outputs": [
        {
          "output_type": "display_data",
          "data": {
            "application/vnd.livy.statement-meta+json": {
              "spark_pool": "spark3p3sm",
              "session_id": "75",
              "statement_id": 18,
              "state": "finished",
              "livy_statement_state": "available",
              "queued_time": "2023-01-13T18:20:22.8208804Z",
              "session_start_time": null,
              "execution_start_time": "2023-01-13T18:20:22.9366418Z",
              "execution_finish_time": "2023-01-13T18:23:08.9657582Z",
              "spark_jobs": null
            },
            "text/plain": "StatementMeta(spark3p3sm, 75, 18, Finished, Available)"
          },
          "metadata": {}
        },
        {
          "output_type": "stream",
          "name": "stdout",
          "text": [
            "2023-01-13 18:20:23,112 - OEA - INFO - Ingesting from: stage1/Transactional/M365/v1.14/AadGroup, batch type of: snapshot, source data format of: csv\n2023-01-13 18:20:37,659 - py4j.java_gateway - INFO - Callback Connection ready to receive messages\n2023-01-13 18:20:37,660 - py4j.java_gateway - INFO - Received command c on object id p1\n2023-01-13 18:20:55,302 - OEA - INFO - Number of new inbound rows processed: 87\n2023-01-13 18:21:03,391 - OEA - INFO - Ingesting from: stage1/Transactional/M365/v1.14/AadGroupMembership, batch type of: snapshot, source data format of: csv\n2023-01-13 18:21:05,456 - py4j.java_gateway - INFO - Received command c on object id p2\n2023-01-13 18:21:08,940 - OEA - INFO - Number of new inbound rows processed: 3640\n2023-01-13 18:21:11,185 - OEA - INFO - Ingesting from: stage1/Transactional/M365/v1.14/AadUser, batch type of: snapshot, source data format of: csv\n2023-01-13 18:21:13,000 - py4j.java_gateway - INFO - Received command c on object id p3\n2023-01-13 18:21:17,633 - OEA - INFO - Number of new inbound rows processed: 640\n2023-01-13 18:21:17,992 - OEA - INFO - Ingesting from: stage1/Transactional/M365/v1.14/AadUserPersonMapping, batch type of: snapshot, source data format of: csv\n2023-01-13 18:21:19,878 - py4j.java_gateway - INFO - Received command c on object id p4\n2023-01-13 18:21:25,362 - OEA - INFO - Number of new inbound rows processed: 640\n2023-01-13 18:21:25,722 - OEA - INFO - Ingesting from: stage1/Transactional/M365/v1.14/Course, batch type of: snapshot, source data format of: csv\n2023-01-13 18:21:27,325 - py4j.java_gateway - INFO - Received command c on object id p5\n2023-01-13 18:21:30,335 - OEA - INFO - Number of new inbound rows processed: 87\n2023-01-13 18:21:30,618 - OEA - INFO - Ingesting from: stage1/Transactional/M365/v1.14/CourseGradeLevel, batch type of: snapshot, source data format of: csv\n2023-01-13 18:21:32,277 - py4j.java_gateway - INFO - Received command c on object id p6\n2023-01-13 18:21:35,006 - OEA - INFO - Number of new inbound rows processed: 87\n2023-01-13 18:21:35,341 - OEA - INFO - Ingesting from: stage1/Transactional/M365/v1.14/CourseSubject, batch type of: snapshot, source data format of: csv\n2023-01-13 18:21:37,125 - py4j.java_gateway - INFO - Received command c on object id p7\n2023-01-13 18:21:39,548 - OEA - INFO - Number of new inbound rows processed: 87\n2023-01-13 18:21:39,857 - OEA - INFO - Ingesting from: stage1/Transactional/M365/v1.14/Enrollment, batch type of: snapshot, source data format of: csv\n2023-01-13 18:21:41,410 - py4j.java_gateway - INFO - Received command c on object id p8\n2023-01-13 18:21:45,061 - OEA - INFO - Number of new inbound rows processed: 3640\n2023-01-13 18:21:45,421 - OEA - INFO - Ingesting from: stage1/Transactional/M365/v1.14/Organization, batch type of: snapshot, source data format of: csv\n2023-01-13 18:21:47,020 - py4j.java_gateway - INFO - Received command c on object id p9\n2023-01-13 18:21:49,692 - OEA - INFO - Number of new inbound rows processed: 5\n2023-01-13 18:21:49,952 - OEA - INFO - Ingesting from: stage1/Transactional/M365/v1.14/Person, batch type of: snapshot, source data format of: csv\n2023-01-13 18:21:51,513 - py4j.java_gateway - INFO - Received command c on object id p10\n2023-01-13 18:21:54,515 - OEA - INFO - Number of new inbound rows processed: 640\n2023-01-13 18:21:54,775 - OEA - INFO - Ingesting from: stage1/Transactional/M365/v1.14/PersonDemographic, batch type of: snapshot, source data format of: csv\n2023-01-13 18:21:56,289 - py4j.java_gateway - INFO - Received command c on object id p11\n2023-01-13 18:21:59,175 - OEA - INFO - Number of new inbound rows processed: 601\n2023-01-13 18:21:59,443 - OEA - INFO - Ingesting from: stage1/Transactional/M365/v1.14/PersonDemographicEthnicity, batch type of: snapshot, source data format of: csv\n2023-01-13 18:22:00,899 - py4j.java_gateway - INFO - Received command c on object id p12\n2023-01-13 18:22:03,446 - OEA - INFO - Number of new inbound rows processed: 600\n2023-01-13 18:22:03,716 - OEA - INFO - Ingesting from: stage1/Transactional/M365/v1.14/PersonDemographicPersonFlag, batch type of: snapshot, source data format of: csv\n2023-01-13 18:22:05,270 - py4j.java_gateway - INFO - Received command c on object id p13\n2023-01-13 18:22:07,658 - OEA - INFO - Number of new inbound rows processed: 600\n2023-01-13 18:22:07,937 - OEA - INFO - Ingesting from: stage1/Transactional/M365/v1.14/PersonDemographicRace, batch type of: snapshot, source data format of: csv\n2023-01-13 18:22:09,364 - py4j.java_gateway - INFO - Received command c on object id p14\n2023-01-13 18:22:11,647 - OEA - INFO - Number of new inbound rows processed: 600\n2023-01-13 18:22:11,960 - OEA - INFO - Ingesting from: stage1/Transactional/M365/v1.14/PersonEmailAddress, batch type of: snapshot, source data format of: csv\n2023-01-13 18:22:13,418 - py4j.java_gateway - INFO - Received command c on object id p15\n2023-01-13 18:22:16,041 - OEA - INFO - Number of new inbound rows processed: 600\n2023-01-13 18:22:16,334 - OEA - INFO - Ingesting from: stage1/Transactional/M365/v1.14/PersonIdentifier, batch type of: snapshot, source data format of: csv\n2023-01-13 18:22:17,807 - py4j.java_gateway - INFO - Received command c on object id p16\n2023-01-13 18:22:20,330 - OEA - INFO - Number of new inbound rows processed: 600\n2023-01-13 18:22:20,596 - OEA - INFO - Ingesting from: stage1/Transactional/M365/v1.14/PersonOrganizationRole, batch type of: snapshot, source data format of: csv\n2023-01-13 18:22:22,118 - py4j.java_gateway - INFO - Received command c on object id p17\n2023-01-13 18:22:24,806 - OEA - INFO - Number of new inbound rows processed: 601\n2023-01-13 18:22:25,077 - OEA - INFO - Ingesting from: stage1/Transactional/M365/v1.14/PersonPhoneNumber, batch type of: snapshot, source data format of: csv\n2023-01-13 18:22:26,478 - py4j.java_gateway - INFO - Received command c on object id p18\n2023-01-13 18:22:28,969 - OEA - INFO - Number of new inbound rows processed: 600\n2023-01-13 18:22:29,169 - OEA - INFO - No test data\n2023-01-13 18:22:29,240 - OEA - INFO - Ingesting from: stage1/Transactional/M365/v1.14/RefDefinition, batch type of: snapshot, source data format of: csv\n2023-01-13 18:22:30,730 - py4j.java_gateway - INFO - Received command c on object id p19\n2023-01-13 18:22:32,948 - OEA - INFO - Number of new inbound rows processed: 257\n2023-01-13 18:22:33,140 - OEA - INFO - No test data\n2023-01-13 18:22:33,206 - OEA - INFO - Ingesting from: stage1/Transactional/M365/v1.14/Section, batch type of: snapshot, source data format of: csv\n2023-01-13 18:22:34,746 - py4j.java_gateway - INFO - Received command c on object id p20\n2023-01-13 18:22:37,015 - OEA - INFO - Number of new inbound rows processed: 87\n2023-01-13 18:22:37,472 - OEA - INFO - Ingesting from: stage1/Transactional/M365/v1.14/SectionGradeLevel, batch type of: snapshot, source data format of: csv\n2023-01-13 18:22:39,144 - py4j.java_gateway - INFO - Received command c on object id p21\n2023-01-13 18:22:41,437 - OEA - INFO - Number of new inbound rows processed: 87\n2023-01-13 18:22:41,694 - OEA - INFO - Ingesting from: stage1/Transactional/M365/v1.14/SectionSession, batch type of: snapshot, source data format of: csv\n2023-01-13 18:22:43,068 - py4j.java_gateway - INFO - Received command c on object id p22\n2023-01-13 18:22:45,337 - OEA - INFO - Number of new inbound rows processed: 87\n2023-01-13 18:22:45,657 - OEA - INFO - Ingesting from: stage1/Transactional/M365/v1.14/SectionSubject, batch type of: snapshot, source data format of: csv\n2023-01-13 18:22:47,152 - py4j.java_gateway - INFO - Received command c on object id p23\n2023-01-13 18:22:49,644 - OEA - INFO - Number of new inbound rows processed: 87\n2023-01-13 18:22:49,942 - OEA - INFO - Ingesting from: stage1/Transactional/M365/v1.14/Session, batch type of: snapshot, source data format of: csv\n2023-01-13 18:22:51,513 - py4j.java_gateway - INFO - Received command c on object id p24\n2023-01-13 18:22:53,892 - OEA - INFO - Number of new inbound rows processed: 2\n2023-01-13 18:22:54,148 - OEA - INFO - Ingesting from: stage1/Transactional/M365/v1.14/SourceSystem, batch type of: snapshot, source data format of: csv\n2023-01-13 18:22:55,517 - py4j.java_gateway - INFO - Received command c on object id p25\n2023-01-13 18:22:57,758 - OEA - INFO - Number of new inbound rows processed: 1\n2023-01-13 18:22:58,026 - OEA - INFO - Ingesting from: stage1/Transactional/M365/v1.14/activity, batch type of: additive, source data format of: csv\n2023-01-13 18:22:59,661 - py4j.java_gateway - INFO - Received command c on object id p26\n2023-01-13 18:23:06,634 - OEA - INFO - Number of new inbound rows processed: 34379\n"
          ]
        }
      ],
      "execution_count": null,
      "metadata": {
        "jupyter": {
          "source_hidden": false,
          "outputs_hidden": false
        },
        "nteract": {
          "transient": {
            "deleting": false
          }
        }
      }
    }
  ],
  "metadata": {
    "kernelspec": {
      "name": "synapse_pyspark",
      "display_name": "Synapse PySpark"
    },
    "language_info": {
      "name": "python"
    },
    "description": null,
    "save_output": true,
    "synapse_widget": {
      "version": "0.1",
      "state": {}
    }
  },
  "nbformat": 4,
  "nbformat_minor": 2
}